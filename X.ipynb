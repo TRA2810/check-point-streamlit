{
 "cells": [
  {
   "cell_type": "code",
   "execution_count": 4,
   "id": "20abd0a4-8850-4d04-b503-2f507ee2a825",
   "metadata": {},
   "outputs": [
    {
     "name": "stdout",
     "output_type": "stream",
     "text": [
      "Rapport de classification :\n",
      "                              precision    recall  f1-score   support\n",
      "\n",
      "  Dont Know/Refuse to answer       0.00      0.00      0.00        24\n",
      "         Farming and Fishing       0.43      0.48      0.45      1115\n",
      "Formally employed Government       0.25      0.21      0.23        70\n",
      "   Formally employed Private       0.28      0.28      0.28       212\n",
      "        Government Dependent       0.02      0.02      0.02        49\n",
      "         Informally employed       0.31      0.30      0.31      1105\n",
      "                   No Income       0.21      0.16      0.18       127\n",
      "                Other Income       0.11      0.07      0.08       223\n",
      "        Remittance Dependent       0.28      0.26      0.27       501\n",
      "               Self employed       0.45      0.46      0.46      1279\n",
      "\n",
      "                    accuracy                           0.36      4705\n",
      "                   macro avg       0.23      0.23      0.23      4705\n",
      "                weighted avg       0.35      0.36      0.36      4705\n",
      "\n",
      "✅ Modèle et encodeurs sauvegardés avec succès.\n"
     ]
    }
   ],
   "source": [
    "import pandas as pd\n",
    "from sklearn.preprocessing import LabelEncoder\n",
    "from sklearn.model_selection import train_test_split\n",
    "from sklearn.ensemble import RandomForestClassifier\n",
    "from sklearn.metrics import classification_report, confusion_matrix\n",
    "import joblib\n",
    "\n",
    "# Chargement des données\n",
    "df = pd.read_csv(\"Financial_inclusion_dataset.csv\")\n",
    "df.columns = [\n",
    "    \"pays\", \"année\", \"identifiant_unique\", \"compte_bancaire\", \"type_localisation\",\n",
    "    \"accès_téléphone\", \"taille_foyer\", \"âge\", \"sexe\", \"relation_chef_famille\",\n",
    "    \"statut_matrimonial\", \"niveau_éducation\", \"type_emploi\"\n",
    "]\n",
    "\n",
    "# Suppression de colonnes inutiles\n",
    "df = df.drop(columns=[\"identifiant_unique\", \"année\", \"pays\", \"relation_chef_famille\"])\n",
    "\n",
    "# Initialisation des encodeurs\n",
    "label_encoders = {}\n",
    "\n",
    "# Encodage des variables catégorielles sauf la cible\n",
    "for col in df.select_dtypes(include=['object']):\n",
    "    if col != 'type_emploi':\n",
    "        le = LabelEncoder()\n",
    "        df[col] = le.fit_transform(df[col])\n",
    "        label_encoders[col] = le\n",
    "\n",
    "# Séparation des features et de la cible\n",
    "X = df.drop(columns=['type_emploi'])\n",
    "Y = df['type_emploi']\n",
    "\n",
    "# Split des données\n",
    "X_train, X_test, Y_train, Y_test = train_test_split(X, Y, test_size=0.2, random_state=42)\n",
    "\n",
    "# Modèle Random Forest\n",
    "model = RandomForestClassifier(n_estimators=10, random_state=42)\n",
    "model.fit(X_train, Y_train)\n",
    "\n",
    "# Prédiction et évaluation\n",
    "Y_pred = model.predict(X_test)\n",
    "print(\"Rapport de classification :\")\n",
    "print(classification_report(Y_test, Y_pred))\n",
    "\n",
    "# Sauvegarde du modèle\n",
    "joblib.dump(model, \"modelee.pkl\")  # ou modele.joblib si tu préfères\n",
    "\n",
    "# Sauvegarde des encodeurs individuellement\n",
    "for col, le in label_encoders.items():\n",
    "    joblib.dump(le, f\"label_encoder_{col}.joblib\")\n",
    "\n",
    "# Ou : tout sauvegarder dans un seul fichier\n",
    "joblib.dump(label_encoders, \"label_encoders.joblib\")\n",
    "\n",
    "print(\"✅ Modèle et encodeurs sauvegardés avec succès.\")\n"
   ]
  },
  {
   "cell_type": "code",
   "execution_count": null,
   "id": "7a0b433c-a369-481e-83a6-284583732803",
   "metadata": {},
   "outputs": [],
   "source": []
  }
 ],
 "metadata": {
  "kernelspec": {
   "display_name": "Python [conda env:base] *",
   "language": "python",
   "name": "conda-base-py"
  },
  "language_info": {
   "codemirror_mode": {
    "name": "ipython",
    "version": 3
   },
   "file_extension": ".py",
   "mimetype": "text/x-python",
   "name": "python",
   "nbconvert_exporter": "python",
   "pygments_lexer": "ipython3",
   "version": "3.12.3"
  }
 },
 "nbformat": 4,
 "nbformat_minor": 5
}
